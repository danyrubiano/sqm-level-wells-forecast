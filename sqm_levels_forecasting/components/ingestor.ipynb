{
 "cells": [
  {
   "cell_type": "code",
   "execution_count": null,
   "id": "916a65a3-304c-48e1-8963-e663dc4e27af",
   "metadata": {},
   "outputs": [],
   "source": [
    "from ingestion.src.ingestor.ingestor import Ingestor"
   ]
  },
  {
   "cell_type": "code",
   "execution_count": null,
   "id": "04e9bee9-9883-4d8b-b597-004cd1d2761c",
   "metadata": {
    "tags": []
   },
   "outputs": [],
   "source": [
    "ingest_wells = Ingestor(\n",
    "    station_type='wells', \n",
    "    bucket_name='sqm-data-bucket', \n",
    "    context='vertex', \n",
    "    expiration_days=30\n",
    ")\n",
    "ingest_wells.ingest_by_chunks(chunk_size=4)\n",
    "\n",
    "if len(ingest_wells.not_found)>0:\n",
    "    print('Retrying not found wells...')\n",
    "    ingest_wells.retry_not_found()"
   ]
  },
  {
   "cell_type": "code",
   "execution_count": null,
   "id": "e427274d-c1fd-4d65-9cf3-fca0e37b51ab",
   "metadata": {
    "tags": []
   },
   "outputs": [],
   "source": [
    "ingest_wells.not_found"
   ]
  },
  {
   "cell_type": "code",
   "execution_count": null,
   "id": "1ba94f80-16e5-429c-b8ae-6998fa4b6a9d",
   "metadata": {
    "tags": []
   },
   "outputs": [],
   "source": [
    "ingest_meteo = Ingestor(\n",
    "    station_type='meteo', \n",
    "    bucket_name='sqm-data-bucket',\n",
    "    context='vertex', \n",
    "    expiration_days=30)\n",
    "ingest_meteo.ingest_by_chunks(chunk_size=4)\n",
    "\n",
    "if len(ingest_meteo.not_found)>0:\n",
    "    print('Retrying not found meteo...')\n",
    "    ingest_meteo.retry_not_found()"
   ]
  },
  {
   "cell_type": "code",
   "execution_count": null,
   "id": "158e3708-a811-4bf0-8355-53177c94b5a7",
   "metadata": {},
   "outputs": [],
   "source": [
    "ingest_meteo.not_found"
   ]
  }
 ],
 "metadata": {
  "environment": {
   "kernel": "conda-base-py",
   "name": "workbench-notebooks.m129",
   "type": "gcloud",
   "uri": "us-docker.pkg.dev/deeplearning-platform-release/gcr.io/workbench-notebooks:m129"
  },
  "kernelspec": {
   "display_name": "Python 3 (ipykernel) (Local)",
   "language": "python",
   "name": "conda-base-py"
  },
  "language_info": {
   "codemirror_mode": {
    "name": "ipython",
    "version": 3
   },
   "file_extension": ".py",
   "mimetype": "text/x-python",
   "name": "python",
   "nbconvert_exporter": "python",
   "pygments_lexer": "ipython3",
   "version": "3.10.16"
  }
 },
 "nbformat": 4,
 "nbformat_minor": 5
}
