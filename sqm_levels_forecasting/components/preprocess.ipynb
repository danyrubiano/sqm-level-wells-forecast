{
 "cells": [
  {
   "cell_type": "code",
   "execution_count": 1,
   "id": "01c4fa82-87a8-428e-be43-2509c2f7fddc",
   "metadata": {},
   "outputs": [],
   "source": [
    "from preprocessing.src.preprocess.consolidation import Consolidate"
   ]
  },
  {
   "cell_type": "code",
   "execution_count": 2,
   "id": "0b9c1ebc-4e71-40ed-8686-1cc7c97953a1",
   "metadata": {
    "tags": []
   },
   "outputs": [
    {
     "name": "stderr",
     "output_type": "stream",
     "text": [
      "2025-04-20 15:57:02,890 - INFO - Initializing Consolidate in context: 'vertex'\n",
      "2025-04-20 15:57:02,894 - INFO - Consolidating wells data\n",
      "2025-04-20 15:57:02,898 - INFO - Listing files in GCS directory: 'gs://sqm-data-bucket/raw-data/wells'\n",
      "2025-04-20 15:57:02,981 - INFO - Found 29 files in 'gs://sqm-data-bucket/raw-data/wells'.\n",
      "2025-04-20 15:57:02,982 - INFO - Processing 29 files for wells.\n",
      "2025-04-20 15:57:02,983 - INFO - Reading Excel file: 'gs://sqm-data-bucket/raw-data/wells/1028.xlsx'\n",
      "2025-04-20 15:57:03,811 - INFO - Successfully read raw-data/wells/1028.xlsx with 2598 rows and 6 columns.\n",
      "2025-04-20 15:57:03,844 - INFO - Reading Excel file: 'gs://sqm-data-bucket/raw-data/wells/L1-17.xlsx'\n",
      "2025-04-20 15:57:04,419 - INFO - Successfully read raw-data/wells/L1-17.xlsx with 2474 rows and 7 columns.\n",
      "2025-04-20 15:57:04,464 - INFO - Reading Excel file: 'gs://sqm-data-bucket/raw-data/wells/L1-3.xlsx'\n",
      "2025-04-20 15:57:04,858 - INFO - Successfully read raw-data/wells/L1-3.xlsx with 2058 rows and 7 columns.\n",
      "2025-04-20 15:57:04,887 - INFO - Reading Excel file: 'gs://sqm-data-bucket/raw-data/wells/L1-4.xlsx'\n",
      "2025-04-20 15:57:05,374 - INFO - Successfully read raw-data/wells/L1-4.xlsx with 2563 rows and 7 columns.\n",
      "2025-04-20 15:57:05,431 - INFO - Reading Excel file: 'gs://sqm-data-bucket/raw-data/wells/L1-5.xlsx'\n",
      "2025-04-20 15:57:05,957 - INFO - Successfully read raw-data/wells/L1-5.xlsx with 2597 rows and 7 columns.\n",
      "2025-04-20 15:57:06,238 - INFO - Reading Excel file: 'gs://sqm-data-bucket/raw-data/wells/L1-G4 REGLILLA.xlsx'\n",
      "2025-04-20 15:57:06,697 - INFO - Successfully read raw-data/wells/L1-G4 REGLILLA.xlsx with 2600 rows and 6 columns.\n",
      "2025-04-20 15:57:06,745 - INFO - Reading Excel file: 'gs://sqm-data-bucket/raw-data/wells/L10-11.xlsx'\n",
      "2025-04-20 15:57:07,210 - INFO - Successfully read raw-data/wells/L10-11.xlsx with 2451 rows and 6 columns.\n",
      "2025-04-20 15:57:07,247 - INFO - Reading Excel file: 'gs://sqm-data-bucket/raw-data/wells/L10-4.xlsx'\n",
      "2025-04-20 15:57:07,652 - INFO - Successfully read raw-data/wells/L10-4.xlsx with 2447 rows and 6 columns.\n",
      "2025-04-20 15:57:07,679 - INFO - Reading Excel file: 'gs://sqm-data-bucket/raw-data/wells/L2-25.xlsx'\n",
      "2025-04-20 15:57:08,092 - INFO - Successfully read raw-data/wells/L2-25.xlsx with 2465 rows and 7 columns.\n",
      "2025-04-20 15:57:08,118 - INFO - Reading Excel file: 'gs://sqm-data-bucket/raw-data/wells/L2-26.xlsx'\n",
      "2025-04-20 15:57:08,654 - INFO - Successfully read raw-data/wells/L2-26.xlsx with 2473 rows and 7 columns.\n",
      "2025-04-20 15:57:08,698 - INFO - Reading Excel file: 'gs://sqm-data-bucket/raw-data/wells/L2-27.xlsx'\n",
      "2025-04-20 15:57:09,378 - INFO - Successfully read raw-data/wells/L2-27.xlsx with 2473 rows and 7 columns.\n",
      "2025-04-20 15:57:09,407 - INFO - Reading Excel file: 'gs://sqm-data-bucket/raw-data/wells/L2-28.xlsx'\n",
      "2025-04-20 15:57:09,807 - INFO - Successfully read raw-data/wells/L2-28.xlsx with 2477 rows and 7 columns.\n",
      "2025-04-20 15:57:09,834 - INFO - Reading Excel file: 'gs://sqm-data-bucket/raw-data/wells/L2-4.xlsx'\n",
      "2025-04-20 15:57:10,253 - INFO - Successfully read raw-data/wells/L2-4.xlsx with 2553 rows and 7 columns.\n",
      "2025-04-20 15:57:10,301 - INFO - Reading Excel file: 'gs://sqm-data-bucket/raw-data/wells/L2-7.xlsx'\n",
      "2025-04-20 15:57:10,705 - INFO - Successfully read raw-data/wells/L2-7.xlsx with 2494 rows and 7 columns.\n",
      "2025-04-20 15:57:10,731 - INFO - Reading Excel file: 'gs://sqm-data-bucket/raw-data/wells/L3-11.xlsx'\n",
      "2025-04-20 15:57:11,111 - INFO - Successfully read raw-data/wells/L3-11.xlsx with 2495 rows and 7 columns.\n",
      "2025-04-20 15:57:11,136 - INFO - Reading Excel file: 'gs://sqm-data-bucket/raw-data/wells/L3-15.xlsx'\n",
      "2025-04-20 15:57:11,634 - INFO - Successfully read raw-data/wells/L3-15.xlsx with 2475 rows and 7 columns.\n",
      "2025-04-20 15:57:11,672 - INFO - Reading Excel file: 'gs://sqm-data-bucket/raw-data/wells/L3-3.xlsx'\n",
      "2025-04-20 15:57:12,399 - INFO - Successfully read raw-data/wells/L3-3.xlsx with 2565 rows and 7 columns.\n",
      "2025-04-20 15:57:12,434 - INFO - Reading Excel file: 'gs://sqm-data-bucket/raw-data/wells/L4-10.xlsx'\n",
      "2025-04-20 15:57:12,829 - INFO - Successfully read raw-data/wells/L4-10.xlsx with 2477 rows and 7 columns.\n",
      "2025-04-20 15:57:12,858 - INFO - Reading Excel file: 'gs://sqm-data-bucket/raw-data/wells/L4-12.xlsx'\n",
      "2025-04-20 15:57:13,550 - INFO - Successfully read raw-data/wells/L4-12.xlsx with 6348 rows and 7 columns.\n",
      "2025-04-20 15:57:13,580 - INFO - Reading Excel file: 'gs://sqm-data-bucket/raw-data/wells/L4-17.xlsx'\n",
      "2025-04-20 15:57:13,989 - INFO - Successfully read raw-data/wells/L4-17.xlsx with 2471 rows and 7 columns.\n",
      "2025-04-20 15:57:14,016 - INFO - Reading Excel file: 'gs://sqm-data-bucket/raw-data/wells/L4-3.xlsx'\n",
      "2025-04-20 15:57:14,522 - INFO - Successfully read raw-data/wells/L4-3.xlsx with 2602 rows and 7 columns.\n",
      "2025-04-20 15:57:14,554 - INFO - Reading Excel file: 'gs://sqm-data-bucket/raw-data/wells/L5-10.xlsx'\n",
      "2025-04-20 15:57:15,116 - INFO - Successfully read raw-data/wells/L5-10.xlsx with 6280 rows and 7 columns.\n",
      "2025-04-20 15:57:15,149 - INFO - Reading Excel file: 'gs://sqm-data-bucket/raw-data/wells/L7-13.xlsx'\n",
      "2025-04-20 15:57:15,615 - INFO - Successfully read raw-data/wells/L7-13.xlsx with 2477 rows and 7 columns.\n",
      "2025-04-20 15:57:15,665 - INFO - Reading Excel file: 'gs://sqm-data-bucket/raw-data/wells/L7-14.xlsx'\n",
      "2025-04-20 15:57:16,141 - INFO - Successfully read raw-data/wells/L7-14.xlsx with 2479 rows and 7 columns.\n",
      "2025-04-20 15:57:16,184 - INFO - Reading Excel file: 'gs://sqm-data-bucket/raw-data/wells/L7-3.xlsx'\n",
      "2025-04-20 15:57:16,712 - INFO - Successfully read raw-data/wells/L7-3.xlsx with 2568 rows and 7 columns.\n",
      "2025-04-20 15:57:16,744 - INFO - Reading Excel file: 'gs://sqm-data-bucket/raw-data/wells/L7-4.xlsx'\n",
      "2025-04-20 15:57:17,313 - INFO - Successfully read raw-data/wells/L7-4.xlsx with 6054 rows and 7 columns.\n",
      "2025-04-20 15:57:17,349 - INFO - Reading Excel file: 'gs://sqm-data-bucket/raw-data/wells/L7-6.xlsx'\n",
      "2025-04-20 15:57:17,754 - INFO - Successfully read raw-data/wells/L7-6.xlsx with 2499 rows and 7 columns.\n",
      "2025-04-20 15:57:17,786 - INFO - Reading Excel file: 'gs://sqm-data-bucket/raw-data/wells/L9-1.xlsx'\n",
      "2025-04-20 15:57:18,312 - INFO - Successfully read raw-data/wells/L9-1.xlsx with 2485 rows and 7 columns.\n",
      "2025-04-20 15:57:18,368 - INFO - Reading Excel file: 'gs://sqm-data-bucket/raw-data/wells/L9-2.xlsx'\n",
      "2025-04-20 15:57:18,826 - INFO - Successfully read raw-data/wells/L9-2.xlsx with 2484 rows and 7 columns.\n",
      "2025-04-20 15:57:18,868 - INFO - Consolidated wells data with 217201 rows and 7 columns.\n",
      "2025-04-20 15:57:19,241 - INFO - Data saved to gs://sqm-data-bucket/preprocessed-data/wells_data.parquet\n",
      "2025-04-20 15:57:19,242 - INFO - Consolidating meteo data\n",
      "2025-04-20 15:57:19,244 - INFO - Listing files in GCS directory: 'gs://sqm-data-bucket/raw-data/meteo'\n",
      "2025-04-20 15:57:19,292 - INFO - Found 2 files in 'gs://sqm-data-bucket/raw-data/meteo'.\n",
      "2025-04-20 15:57:19,293 - INFO - Processing 2 files for meteo.\n",
      "2025-04-20 15:57:19,294 - INFO - Reading Excel file: 'gs://sqm-data-bucket/raw-data/meteo/EST. METEO. CHAXA.xlsx'\n",
      "2025-04-20 15:57:20,626 - INFO - Successfully read raw-data/meteo/EST. METEO. CHAXA.xlsx with 10892 rows and 19 columns.\n",
      "2025-04-20 15:57:20,660 - INFO - Reading Excel file: 'gs://sqm-data-bucket/raw-data/meteo/EST. METEO. KCL.xlsx'\n",
      "2025-04-20 15:57:22,026 - INFO - Successfully read raw-data/meteo/EST. METEO. KCL.xlsx with 10997 rows and 19 columns.\n",
      "2025-04-20 15:57:22,093 - INFO - Consolidated meteo data with 18684 rows and 19 columns.\n",
      "2025-04-20 15:57:22,356 - INFO - Data saved to gs://sqm-data-bucket/preprocessed-data/meteo_data.parquet\n"
     ]
    }
   ],
   "source": [
    "conso = Consolidate(bucket_name='sqm-data-bucket', context='vertex')\n",
    "wells_data = conso.consolide_data(station_type='wells')\n",
    "conso.save_to_parquet(wells_data, file_name='wells_data')\n",
    "\n",
    "meteo_data = conso.consolide_data(station_type='meteo')\n",
    "conso.save_to_parquet(meteo_data, file_name='meteo_data')"
   ]
  },
  {
   "cell_type": "code",
   "execution_count": null,
   "id": "eca99ef7-cf8b-43cb-b797-ba2bfaee41dc",
   "metadata": {},
   "outputs": [],
   "source": []
  }
 ],
 "metadata": {
  "environment": {
   "kernel": "conda-base-py",
   "name": "workbench-notebooks.m129",
   "type": "gcloud",
   "uri": "us-docker.pkg.dev/deeplearning-platform-release/gcr.io/workbench-notebooks:m129"
  },
  "kernelspec": {
   "display_name": "Python 3 (ipykernel) (Local) (Local)",
   "language": "python",
   "name": "conda-base-py"
  },
  "language_info": {
   "codemirror_mode": {
    "name": "ipython",
    "version": 3
   },
   "file_extension": ".py",
   "mimetype": "text/x-python",
   "name": "python",
   "nbconvert_exporter": "python",
   "pygments_lexer": "ipython3",
   "version": "3.10.16"
  }
 },
 "nbformat": 4,
 "nbformat_minor": 5
}
